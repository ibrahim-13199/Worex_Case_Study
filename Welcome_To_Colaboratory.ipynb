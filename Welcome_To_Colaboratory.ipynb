{
  "cells": [
    {
      "cell_type": "markdown",
      "metadata": {
        "id": "view-in-github",
        "colab_type": "text"
      },
      "source": [
        "<a href=\"https://colab.research.google.com/github/ibrahim-13199/Worex_Case_Study/blob/main/Welcome_To_Colaboratory.ipynb\" target=\"_parent\"><img src=\"https://colab.research.google.com/assets/colab-badge.svg\" alt=\"Open In Colab\"/></a>"
      ]
    },
    {
      "cell_type": "markdown",
      "source": [
        "\n",
        "\n",
        "```\n",
        "# Start with pyspark\n",
        "```\n",
        "\n",
        "# Configuer Spark\n"
      ],
      "metadata": {
        "id": "V7IOg5rJ0J9E"
      }
    },
    {
      "cell_type": "code",
      "source": [
        "!apt-get install openjdk-11-jdk-headless -qq > /dev/null\n",
        "!wget -q https://bitbucket.org/habedi/datasets/raw/b6769c4664e7ff68b001e2f43bc517888cbe3642/spark/spark-3.0.2-bin-hadoop2.7.tgz\n",
        "!tar xf spark-3.0.2-bin-hadoop2.7.tgz\n",
        "!rm -rf spark-3.0.2-bin-hadoop2.7.tgz*"
      ],
      "metadata": {
        "id": "hCGdrDaakgGE"
      },
      "execution_count": 3,
      "outputs": []
    },
    {
      "cell_type": "code",
      "source": [
        "!pip install pyspark py4j\n",
        "!pip -q install findspark pyspark"
      ],
      "metadata": {
        "id": "O9biBB5t0XkB"
      },
      "execution_count": null,
      "outputs": []
    },
    {
      "cell_type": "code",
      "source": [
        "import os\n",
        "\n",
        "os.environ[\"JAVA_HOME\"] = \"/usr/lib/jvm/java-11-openjdk-amd64\"\n",
        "os.environ[\"SPARK_HOME\"] = \"/content/spark-3.0.2-bin-hadoop2.7\"\n",
        "os.environ[\"HADOOP_HOME\"] = os.environ[\"SPARK_HOME\"]\n",
        "\n",
        "os.environ[\"PYSPARK_DRIVER_PYTHON\"] = \"jupyter\"\n",
        "os.environ[\"PYSPARK_DRIVER_PYTHON_OPTS\"] = \"notebook\"\n",
        "os.environ[\"PYSPARK_SUBMIT_ARGS\"] = \"--master local[*] pyspark-shell\""
      ],
      "metadata": {
        "id": "sYtc5fv-5TF7"
      },
      "execution_count": 5,
      "outputs": []
    },
    {
      "cell_type": "code",
      "source": [
        "!export PYSPARK_SUBMIT_ARGS=\"--master local[*] pyspark-shell\"\n",
        "!export PYSPARK_DRIVER_PYTHON=jupyter\n",
        "!export PYSPARK_DRIVER_PYTHON_OPTS=notebook"
      ],
      "metadata": {
        "id": "ql7FX6Sj5lUI"
      },
      "execution_count": 6,
      "outputs": []
    },
    {
      "cell_type": "code",
      "source": [
        "#Find spark\n",
        "import findspark\n",
        "findspark.init()"
      ],
      "metadata": {
        "id": "DR3pLztdiIpq"
      },
      "execution_count": 7,
      "outputs": []
    },
    {
      "cell_type": "code",
      "source": [
        "#Get SparkContext\n",
        "from pyspark import SparkConf\n",
        "from pyspark.context import SparkContext\n",
        "\n",
        "#Access Data Set\n",
        "sc = SparkContext.getOrCreate(SparkConf().setMaster(\"local[*]\"))\n",
        "data = sc.textFile(\"/content/insurance.csv\")"
      ],
      "metadata": {
        "id": "-vg5szhY50Ux"
      },
      "execution_count": 122,
      "outputs": []
    },
    {
      "cell_type": "code",
      "source": [
        "#GET 10 record to insure the data already exist\n",
        "data.take(10)"
      ],
      "metadata": {
        "colab": {
          "base_uri": "https://localhost:8080/"
        },
        "id": "oPBWZceYcANu",
        "outputId": "f2e03c1d-cbff-4f5a-ea37-c3c9c4869aa5"
      },
      "execution_count": 10,
      "outputs": [
        {
          "output_type": "execute_result",
          "data": {
            "text/plain": [
              "['age,sex,bmi,children,smoker,region,charges',\n",
              " '19,female,27.9,0,yes,southwest,16884.924',\n",
              " '18,male,33.77,1,no,southeast,1725.5523',\n",
              " '28,male,33,3,no,southeast,4449.462',\n",
              " '33,male,22.705,0,no,northwest,21984.47061',\n",
              " '32,male,28.88,0,no,northwest,3866.8552',\n",
              " '31,female,25.74,0,no,southeast,3756.6216',\n",
              " '46,female,33.44,1,no,southeast,8240.5896',\n",
              " '37,female,27.74,3,no,northwest,7281.5056',\n",
              " '37,male,29.83,2,no,northeast,6406.4107']"
            ]
          },
          "metadata": {},
          "execution_count": 10
        }
      ]
    },
    {
      "cell_type": "markdown",
      "source": [
        "# Impelementing DataFrame"
      ],
      "metadata": {
        "id": "HSgGQaAdDsPb"
      }
    },
    {
      "cell_type": "code",
      "source": [
        "#Access DataFrame \"SparkSession\"\n",
        "from pyspark.sql import SparkSession , functions as f\n",
        "\n",
        "spark = SparkSession \\\n",
        "    .builder \\\n",
        "    .appName(\"Task\") \\\n",
        "    .config(\"spark.some.config.option\", \"some-value\") \\\n",
        "    .getOrCreate()\n"
      ],
      "metadata": {
        "id": "_GSip2xsMKY4"
      },
      "execution_count": 20,
      "outputs": []
    },
    {
      "cell_type": "code",
      "source": [
        "#Craete dataframe with the data set\n",
        "\n",
        "df = spark.read.csv(\"/content/insurance.csv\",header=True)\n",
        "\n",
        "#Get 10 records useing DF\n",
        "df.show(10)"
      ],
      "metadata": {
        "colab": {
          "base_uri": "https://localhost:8080/"
        },
        "id": "ghlnEHN1N85x",
        "outputId": "be597c50-ba96-4547-e9f3-b94642f5c90e"
      },
      "execution_count": 13,
      "outputs": [
        {
          "output_type": "stream",
          "name": "stdout",
          "text": [
            "+---+------+------+--------+------+---------+-----------+\n",
            "|age|   sex|   bmi|children|smoker|   region|    charges|\n",
            "+---+------+------+--------+------+---------+-----------+\n",
            "| 19|female|  27.9|       0|   yes|southwest|  16884.924|\n",
            "| 18|  male| 33.77|       1|    no|southeast|  1725.5523|\n",
            "| 28|  male|    33|       3|    no|southeast|   4449.462|\n",
            "| 33|  male|22.705|       0|    no|northwest|21984.47061|\n",
            "| 32|  male| 28.88|       0|    no|northwest|  3866.8552|\n",
            "| 31|female| 25.74|       0|    no|southeast|  3756.6216|\n",
            "| 46|female| 33.44|       1|    no|southeast|  8240.5896|\n",
            "| 37|female| 27.74|       3|    no|northwest|  7281.5056|\n",
            "| 37|  male| 29.83|       2|    no|northeast|  6406.4107|\n",
            "| 60|female| 25.84|       0|    no|northwest|28923.13692|\n",
            "+---+------+------+--------+------+---------+-----------+\n",
            "only showing top 10 rows\n",
            "\n"
          ]
        }
      ]
    },
    {
      "cell_type": "code",
      "source": [
        "#The datatype\n",
        "\n",
        "df.printSchema()"
      ],
      "metadata": {
        "colab": {
          "base_uri": "https://localhost:8080/"
        },
        "id": "2IEyMet7PUo_",
        "outputId": "efe1a856-f7d0-4256-c171-a18b2bee2252"
      },
      "execution_count": 14,
      "outputs": [
        {
          "output_type": "stream",
          "name": "stdout",
          "text": [
            "root\n",
            " |-- age: string (nullable = true)\n",
            " |-- sex: string (nullable = true)\n",
            " |-- bmi: string (nullable = true)\n",
            " |-- children: string (nullable = true)\n",
            " |-- smoker: string (nullable = true)\n",
            " |-- region: string (nullable = true)\n",
            " |-- charges: string (nullable = true)\n",
            "\n"
          ]
        }
      ]
    },
    {
      "cell_type": "code",
      "source": [
        "# Select only the \"regoin\" column\n",
        "df.select(\"region\").show(10)"
      ],
      "metadata": {
        "colab": {
          "base_uri": "https://localhost:8080/"
        },
        "id": "DJvYdHeHP89z",
        "outputId": "044aae0e-5bcb-403d-825b-9c101683b06c"
      },
      "execution_count": 15,
      "outputs": [
        {
          "output_type": "stream",
          "name": "stdout",
          "text": [
            "+---------+\n",
            "|   region|\n",
            "+---------+\n",
            "|southwest|\n",
            "|southeast|\n",
            "|southeast|\n",
            "|northwest|\n",
            "|northwest|\n",
            "|southeast|\n",
            "|southeast|\n",
            "|northwest|\n",
            "|northeast|\n",
            "|northwest|\n",
            "+---------+\n",
            "only showing top 10 rows\n",
            "\n"
          ]
        }
      ]
    },
    {
      "cell_type": "markdown",
      "source": [
        "Filtter"
      ],
      "metadata": {
        "id": "8XEGVD2N0aPO"
      }
    },
    {
      "cell_type": "code",
      "source": [
        "#Apply the filter function on df\n",
        "\n",
        "df.filter(df['age'] > 21).show()"
      ],
      "metadata": {
        "colab": {
          "base_uri": "https://localhost:8080/"
        },
        "id": "Eny-jm-tQIfc",
        "outputId": "2be10179-844b-46c0-f30d-e8efb12b19a9"
      },
      "execution_count": 123,
      "outputs": [
        {
          "output_type": "stream",
          "name": "stdout",
          "text": [
            "+---+------+------+--------+------+---------+-----------+\n",
            "|age|   sex|   bmi|children|smoker|   region|    charges|\n",
            "+---+------+------+--------+------+---------+-----------+\n",
            "| 28|  male|    33|       3|    no|southeast|   4449.462|\n",
            "| 33|  male|22.705|       0|    no|northwest|21984.47061|\n",
            "| 32|  male| 28.88|       0|    no|northwest|  3866.8552|\n",
            "| 31|female| 25.74|       0|    no|southeast|  3756.6216|\n",
            "| 46|female| 33.44|       1|    no|southeast|  8240.5896|\n",
            "| 37|female| 27.74|       3|    no|northwest|  7281.5056|\n",
            "| 37|  male| 29.83|       2|    no|northeast|  6406.4107|\n",
            "| 60|female| 25.84|       0|    no|northwest|28923.13692|\n",
            "| 25|  male| 26.22|       0|    no|northeast|  2721.3208|\n",
            "| 62|female| 26.29|       0|   yes|southeast| 27808.7251|\n",
            "| 23|  male|  34.4|       0|    no|southwest|   1826.843|\n",
            "| 56|female| 39.82|       0|    no|southeast| 11090.7178|\n",
            "| 27|  male| 42.13|       0|   yes|southeast| 39611.7577|\n",
            "| 52|female| 30.78|       1|    no|northeast| 10797.3362|\n",
            "| 23|  male|23.845|       0|    no|northeast| 2395.17155|\n",
            "| 56|  male|  40.3|       0|    no|southwest|  10602.385|\n",
            "| 30|  male|  35.3|       0|   yes|southwest|  36837.467|\n",
            "| 60|female|36.005|       0|    no|northeast|13228.84695|\n",
            "| 30|female|  32.4|       1|    no|southwest|   4149.736|\n",
            "| 34|female| 31.92|       1|   yes|northeast| 37701.8768|\n",
            "+---+------+------+--------+------+---------+-----------+\n",
            "only showing top 20 rows\n",
            "\n"
          ]
        }
      ]
    },
    {
      "cell_type": "markdown",
      "source": [
        "# Aggregate Functions"
      ],
      "metadata": {
        "id": "x1R5khH31WMm"
      }
    },
    {
      "cell_type": "markdown",
      "source": [
        "Group by"
      ],
      "metadata": {
        "id": "feBooOrz0hBQ"
      }
    },
    {
      "cell_type": "code",
      "source": [
        "# Group By Regoins\n",
        "df.groupBy(\"region\").count().show()\n"
      ],
      "metadata": {
        "colab": {
          "base_uri": "https://localhost:8080/"
        },
        "id": "BQRYysicQQZp",
        "outputId": "cafbe78a-5f88-4e0f-a916-f3de49a9f182"
      },
      "execution_count": 17,
      "outputs": [
        {
          "output_type": "stream",
          "name": "stdout",
          "text": [
            "+---------+-----+\n",
            "|   region|count|\n",
            "+---------+-----+\n",
            "|northwest|  325|\n",
            "|southeast|  364|\n",
            "|northeast|  324|\n",
            "|southwest|  325|\n",
            "+---------+-----+\n",
            "\n"
          ]
        }
      ]
    },
    {
      "cell_type": "markdown",
      "source": [
        "Count"
      ],
      "metadata": {
        "id": "dDQWuP0V0pQ0"
      }
    },
    {
      "cell_type": "code",
      "source": [
        "data.count()"
      ],
      "metadata": {
        "colab": {
          "base_uri": "https://localhost:8080/"
        },
        "id": "L3FQ0JizQhT3",
        "outputId": "27106ccb-0686-499a-b3a5-e83ae8915aeb"
      },
      "execution_count": 18,
      "outputs": [
        {
          "output_type": "execute_result",
          "data": {
            "text/plain": [
              "1339"
            ]
          },
          "metadata": {},
          "execution_count": 18
        }
      ]
    },
    {
      "cell_type": "markdown",
      "source": [
        "sum"
      ],
      "metadata": {
        "id": "-uYrENYc00fV"
      }
    },
    {
      "cell_type": "code",
      "source": [
        "# Total Number of BMI\n",
        "df.select(f.sum('bmi').alias(\"Total Num Of Bmi\")).show()\n",
        "# df.select(f.avg('bmi').alias(\"Avearge of BMI\")).show()"
      ],
      "metadata": {
        "colab": {
          "base_uri": "https://localhost:8080/"
        },
        "id": "4ag9M5sTTkU8",
        "outputId": "fa17bdf2-213f-4805-db04-76de17bf572f"
      },
      "execution_count": 21,
      "outputs": [
        {
          "output_type": "stream",
          "name": "stdout",
          "text": [
            "+------------------+\n",
            "|  Total Num Of Bmi|\n",
            "+------------------+\n",
            "|41027.624999999985|\n",
            "+------------------+\n",
            "\n"
          ]
        }
      ]
    },
    {
      "cell_type": "markdown",
      "source": [
        "Avg , Max & Min"
      ],
      "metadata": {
        "id": "vx_LEDyx19x5"
      }
    },
    {
      "cell_type": "code",
      "source": [
        "# Average Number of BMI\n",
        "df.select(f.mean('bmi').alias(\"Total_Bmi\")).show()\n",
        "# Max Age\n",
        "df.select(f.max('age').alias(\"Max Age\")).show()\n",
        "# Mini Age\n",
        "df.select(f.min('age').alias(\"Mini Age\")).show()"
      ],
      "metadata": {
        "colab": {
          "base_uri": "https://localhost:8080/"
        },
        "id": "FqT54-HLVmjw",
        "outputId": "511b27b7-b8b3-49f4-9563-4f335cd4bb4a"
      },
      "execution_count": 124,
      "outputs": [
        {
          "output_type": "stream",
          "name": "stdout",
          "text": [
            "+------------------+\n",
            "|         Total_Bmi|\n",
            "+------------------+\n",
            "|30.663396860986538|\n",
            "+------------------+\n",
            "\n",
            "+-------+\n",
            "|Max Age|\n",
            "+-------+\n",
            "|     64|\n",
            "+-------+\n",
            "\n",
            "+--------+\n",
            "|Mini Age|\n",
            "+--------+\n",
            "|      18|\n",
            "+--------+\n",
            "\n"
          ]
        }
      ]
    },
    {
      "cell_type": "markdown",
      "source": [
        "Get the Total Sum Of all AGEs in each Regoin"
      ],
      "metadata": {
        "id": "zE1951e22P7i"
      }
    },
    {
      "cell_type": "code",
      "source": [
        "# Get the Total Sum Of all AGEs in each Regoin\n",
        "from pyspark.sql.types import *\n",
        "df.withColumn(\"age\",df.age.cast(IntegerType())).groupBy(\"region\").agg(f.sum('age').alias(\"Total Ages in Each Regoin\")).show()\n"
      ],
      "metadata": {
        "colab": {
          "base_uri": "https://localhost:8080/"
        },
        "id": "gd7aSgdpYRlb",
        "outputId": "d8c00391-b376-4cef-c8c8-cbfabe388300"
      },
      "execution_count": 23,
      "outputs": [
        {
          "output_type": "stream",
          "name": "stdout",
          "text": [
            "+---------+-------------------------+\n",
            "|   region|Total Ages in Each Regoin|\n",
            "+---------+-------------------------+\n",
            "|northwest|                    12739|\n",
            "|southeast|                    14174|\n",
            "|northeast|                    12723|\n",
            "|southwest|                    12823|\n",
            "+---------+-------------------------+\n",
            "\n"
          ]
        }
      ]
    },
    {
      "cell_type": "markdown",
      "source": [
        " Get the Max Num Of all AGEs in each Regoin"
      ],
      "metadata": {
        "id": "z3QJvWyk2Rj5"
      }
    },
    {
      "cell_type": "code",
      "source": [
        "#agg to can use alias()\n",
        "# Get the Max Num Of all AGEs in each Regoin\n",
        "from pyspark.sql.types import *\n",
        "df.withColumn(\"bmi\",df.bmi.cast(IntegerType())).groupBy(\"region\").agg(f.max('bmi').alias(\"Max bmi in Each Regoin\")).show()"
      ],
      "metadata": {
        "colab": {
          "base_uri": "https://localhost:8080/"
        },
        "id": "bkso9zAbhQi6",
        "outputId": "e6f2794f-dd40-4d56-976a-1195909cb6da"
      },
      "execution_count": 24,
      "outputs": [
        {
          "output_type": "stream",
          "name": "stdout",
          "text": [
            "+---------+----------------------+\n",
            "|   region|Max bmi in Each Regoin|\n",
            "+---------+----------------------+\n",
            "|northwest|                    42|\n",
            "|southeast|                    53|\n",
            "|northeast|                    48|\n",
            "|southwest|                    47|\n",
            "+---------+----------------------+\n",
            "\n"
          ]
        }
      ]
    },
    {
      "cell_type": "markdown",
      "source": [
        "# Implementing Rdd functions"
      ],
      "metadata": {
        "id": "FUqZskbr9uVp"
      }
    },
    {
      "cell_type": "markdown",
      "source": [
        "Perisist"
      ],
      "metadata": {
        "id": "eZbL7MrK2cDG"
      }
    },
    {
      "cell_type": "code",
      "source": [
        "#to implement the persist rdd\n",
        "dataLengths = data.map(lambda s: len(s))  #this is transformation\n",
        "totalLength = dataLengths.reduce(lambda a, b: a + b) #action\n",
        "print(dataLengths)"
      ],
      "metadata": {
        "colab": {
          "base_uri": "https://localhost:8080/"
        },
        "id": "slwEijtXQQ24",
        "outputId": "0007de5d-c13f-47eb-f90b-70ad7eef5267"
      },
      "execution_count": 74,
      "outputs": [
        {
          "output_type": "stream",
          "name": "stdout",
          "text": [
            "PythonRDD[134] at RDD at PythonRDD.scala:53\n"
          ]
        }
      ]
    },
    {
      "cell_type": "code",
      "source": [
        "lineLengths.persist()  #if we need it again so do it in persist\n",
        "#lineLengths.unpersist()"
      ],
      "metadata": {
        "id": "4r4eCjS5UoKp"
      },
      "execution_count": null,
      "outputs": []
    },
    {
      "cell_type": "markdown",
      "source": [
        "Distinct"
      ],
      "metadata": {
        "id": "VNIxP6HX2iFP"
      }
    },
    {
      "cell_type": "code",
      "source": [
        "#implement distinct func\n",
        "result=data.distinct()\n",
        "result.count()"
      ],
      "metadata": {
        "colab": {
          "base_uri": "https://localhost:8080/"
        },
        "id": "mtstRDVkWEG_",
        "outputId": "57f98e64-e818-40b3-b875-4e1a09d62847"
      },
      "execution_count": 93,
      "outputs": [
        {
          "output_type": "execute_result",
          "data": {
            "text/plain": [
              "1338"
            ]
          },
          "metadata": {},
          "execution_count": 93
        }
      ]
    },
    {
      "cell_type": "markdown",
      "source": [
        "Accumulator"
      ],
      "metadata": {
        "id": "EDLL1zUp2nve"
      }
    },
    {
      "cell_type": "code",
      "source": [
        "#Accumulator\n",
        "\n",
        "# Identify the values that need to be collected or aggregated\n",
        "total_count = spark.sparkContext.accumulator(0)\n",
        "\n",
        "# Update the accumulator within Spark transformations or actions\n",
        "df.foreach(lambda row: total_count.add(1))\n",
        "\n",
        "# Retrieve the accumulated value at the driver node\n",
        "accumulated_value = total_count.value\n",
        "\n",
        "print(accumulated_value)\n",
        ""
      ],
      "metadata": {
        "colab": {
          "base_uri": "https://localhost:8080/"
        },
        "id": "KNhtdBYtlA1v",
        "outputId": "95edff36-2f70-4a8b-efd4-92cc2e6ad4cb"
      },
      "execution_count": 113,
      "outputs": [
        {
          "output_type": "stream",
          "name": "stdout",
          "text": [
            "1338\n"
          ]
        }
      ]
    }
  ],
  "metadata": {
    "colab": {
      "name": "Welcome To Colaboratory",
      "provenance": [],
      "include_colab_link": true
    },
    "kernelspec": {
      "display_name": "Python 3",
      "name": "python3"
    }
  },
  "nbformat": 4,
  "nbformat_minor": 0
}